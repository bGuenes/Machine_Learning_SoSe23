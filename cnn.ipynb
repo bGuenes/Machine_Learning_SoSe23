{
 "cells": [
  {
   "cell_type": "markdown",
   "id": "ffbdceac-a993-4d54-b67a-49eca50c23b3",
   "metadata": {},
   "source": [
    "# Exercise 3\n",
    "\n",
    "## 1 Introduction"
   ]
  },
  {
   "cell_type": "code",
   "execution_count": 100,
   "id": "742bb34d-073d-4e9c-beaa-2b2e839fafa6",
   "metadata": {
    "tags": []
   },
   "outputs": [],
   "source": [
    "import numpy as np\n",
    "import matplotlib.pyplot as plt\n",
    "import sys\n",
    "\n",
    "import torch\n",
    "import torch.optim as optim\n",
    "from torch.utils.data import DataLoader\n",
    "\n",
    "import torchvision.datasets as datasets\n",
    "import torchvision.transforms as transforms\n",
    "\n",
    "from torch.nn.functional import conv2d, max_pool2d, cross_entropy"
   ]
  },
  {
   "cell_type": "code",
   "execution_count": 2,
   "id": "3325efdf-4007-491e-a555-799381050bf5",
   "metadata": {},
   "outputs": [],
   "source": [
    "plt.rc(\"figure\", dpi=100)\n",
    "\n",
    "batch_size = 100\n",
    "\n",
    "# transform images into normalized tensors\n",
    "transform = transforms.Compose([\n",
    "    transforms.ToTensor(),\n",
    "    transforms.Normalize(mean=(0.5,), std=(0.5,))\n",
    "])\n",
    "\n",
    "train_dataset = datasets.MNIST(\n",
    "    \"./\",\n",
    "    download=True,\n",
    "    train=True,\n",
    "    transform=transform,\n",
    ")\n",
    "\n",
    "test_dataset = datasets.MNIST(\n",
    "    \"./\",\n",
    "    download=True,\n",
    "    train=False,\n",
    "    transform=transform,\n",
    ")\n",
    "\n",
    "train_dataloader = DataLoader(\n",
    "    dataset=train_dataset,\n",
    "    batch_size=batch_size,\n",
    "    shuffle=True,\n",
    "    num_workers=1,\n",
    "    pin_memory=True,\n",
    ")\n",
    "\n",
    "test_dataloader = DataLoader(\n",
    "    dataset=test_dataset,\n",
    "    batch_size=batch_size,\n",
    "    shuffle=False,\n",
    "    num_workers=1,\n",
    "    pin_memory=True,\n",
    ")"
   ]
  },
  {
   "cell_type": "code",
   "execution_count": 3,
   "id": "b4e45fcd-e619-4971-a277-0183c71e5f97",
   "metadata": {},
   "outputs": [],
   "source": [
    "def init_weights(shape):\n",
    "    # Kaiming He initialization (a good initialization is important)\n",
    "    # https://arxiv.org/abs/1502.01852\n",
    "    std = np.sqrt(2. / shape[0])\n",
    "    w = torch.randn(size=shape) * std\n",
    "    w.requires_grad = True\n",
    "    return w\n",
    "\n",
    "\n",
    "def rectify(x):\n",
    "    # Rectified Linear Unit (ReLU)\n",
    "    return torch.max(torch.zeros_like(x), x)\n",
    "\n",
    "\n",
    "class RMSprop(optim.Optimizer):\n",
    "    \"\"\"\n",
    "    This is a reduced version of the PyTorch internal RMSprop optimizer\n",
    "    It serves here as an example\n",
    "    \"\"\"\n",
    "    def __init__(self, params, lr=1e-3, alpha=0.5, eps=1e-8):\n",
    "        defaults = dict(lr=lr, alpha=alpha, eps=eps)\n",
    "        super(RMSprop, self).__init__(params, defaults)\n",
    "\n",
    "    def step(self):\n",
    "        for group in self.param_groups:\n",
    "            for p in group['params']:\n",
    "                grad = p.grad.data\n",
    "                state = self.state[p]\n",
    "\n",
    "                # state initialization\n",
    "                if len(state) == 0:\n",
    "                    state['square_avg'] = torch.zeros_like(p.data)\n",
    "\n",
    "                square_avg = state['square_avg']\n",
    "                alpha = group['alpha']\n",
    "\n",
    "                # update running averages\n",
    "                square_avg.mul_(alpha).addcmul_(grad, grad, value=1 - alpha)\n",
    "                avg = square_avg.sqrt().add_(group['eps'])\n",
    "\n",
    "                # gradient update\n",
    "                p.data.addcdiv_(grad, avg, value=-group['lr'])\n",
    "\n",
    "\n",
    "# define the neural network\n",
    "def model(x, w_h, w_h2, w_o):\n",
    "    h = rectify(x @ w_h)\n",
    "    h2 = rectify(h @ w_h2)\n",
    "    pre_softmax = h2 @ w_o\n",
    "    return pre_softmax\n",
    "\n",
    "\n",
    "# initialize weights\n",
    "\n",
    "# input shape is (B, 784)\n",
    "w_h = init_weights((784, 625))\n",
    "# hidden layer with 625 neurons\n",
    "w_h2 = init_weights((625, 625))\n",
    "# hidden layer with 625 neurons\n",
    "w_o = init_weights((625, 10))\n",
    "# output shape is (B, 10)\n",
    "\n",
    "optimizer = RMSprop(params=[w_h, w_h2, w_o])"
   ]
  },
  {
   "cell_type": "code",
   "execution_count": 4,
   "id": "e884411e-f77a-4307-8928-a3df7520391e",
   "metadata": {},
   "outputs": [
    {
     "name": "stdout",
     "output_type": "stream",
     "text": [
      "Epoch: 0\n",
      "Mean Train Loss: 3.96e-01\n",
      "Mean Test Loss:  2.66e-01\n",
      "Epoch: 10\n",
      "Mean Train Loss: 1.54e-01\n",
      "Mean Test Loss:  2.46e-01\n",
      "Epoch: 20\n",
      "Mean Train Loss: 1.20e-01\n",
      "Mean Test Loss:  5.42e-01\n",
      "Epoch: 30\n",
      "Mean Train Loss: 7.61e-02\n",
      "Mean Test Loss:  5.70e-01\n",
      "Epoch: 40\n",
      "Mean Train Loss: 4.75e-02\n",
      "Mean Test Loss:  7.16e-01\n",
      "Epoch: 50\n",
      "Mean Train Loss: 3.23e-02\n",
      "Mean Test Loss:  5.52e-01\n",
      "Epoch: 60\n",
      "Mean Train Loss: 3.07e-02\n",
      "Mean Test Loss:  8.70e-01\n",
      "Epoch: 70\n",
      "Mean Train Loss: 1.74e-02\n",
      "Mean Test Loss:  8.01e-01\n",
      "Epoch: 80\n",
      "Mean Train Loss: 2.09e-02\n",
      "Mean Test Loss:  8.22e-01\n",
      "Epoch: 90\n",
      "Mean Train Loss: 1.51e-02\n",
      "Mean Test Loss:  9.94e-01\n",
      "Epoch: 100\n",
      "Mean Train Loss: 1.22e-02\n",
      "Mean Test Loss:  8.46e-01\n"
     ]
    },
    {
     "data": {
      "text/plain": [
       "<matplotlib.legend.Legend at 0x14a2c3820>"
      ]
     },
     "execution_count": 4,
     "metadata": {},
     "output_type": "execute_result"
    },
    {
     "data": {
      "image/png": "[encoded data removed]",
      "text/plain": [
       "<Figure size 640x480 with 1 Axes>"
      ]
     },
     "metadata": {},
     "output_type": "display_data"
    }
   ],
   "source": [
    "n_epochs = 100\n",
    "\n",
    "train_loss = []\n",
    "test_loss = []\n",
    "\n",
    "# put this into a training loop over 100 epochs\n",
    "for epoch in range(n_epochs + 1):\n",
    "    train_loss_this_epoch = []\n",
    "    for idx, batch in enumerate(train_dataloader):\n",
    "        x, y = batch\n",
    "\n",
    "        # our model requires flattened input\n",
    "        x = x.reshape(batch_size, 784)\n",
    "        # feed input through model\n",
    "        noise_py_x = model(x, w_h, w_h2, w_o)\n",
    "\n",
    "        # reset the gradient\n",
    "        optimizer.zero_grad()\n",
    "\n",
    "        # the cross-entropy loss function already contains the softmax\n",
    "        loss = cross_entropy(noise_py_x, y, reduction=\"mean\")\n",
    "\n",
    "        train_loss_this_epoch.append(float(loss))\n",
    "\n",
    "        # compute the gradient\n",
    "        loss.backward()\n",
    "        # update weights\n",
    "        optimizer.step()\n",
    "\n",
    "    train_loss.append(np.mean(train_loss_this_epoch))\n",
    "\n",
    "    # test periodically\n",
    "    if epoch % 10 == 0:\n",
    "        print(f\"Epoch: {epoch}\")\n",
    "        print(f\"Mean Train Loss: {train_loss[-1]:.2e}\")\n",
    "        test_loss_this_epoch = []\n",
    "\n",
    "        # no need to compute gradients for validation\n",
    "        with torch.no_grad():\n",
    "            for idx, batch in enumerate(test_dataloader):\n",
    "                x, y = batch\n",
    "                x = x.reshape(batch_size, 784)\n",
    "                noise_py_x = model(x, w_h, w_h2, w_o)\n",
    "\n",
    "                loss = cross_entropy(noise_py_x, y, reduction=\"mean\")\n",
    "                test_loss_this_epoch.append(float(loss))\n",
    "\n",
    "        test_loss.append(np.mean(test_loss_this_epoch))\n",
    "\n",
    "        print(f\"Mean Test Loss:  {test_loss[-1]:.2e}\")\n",
    "\n",
    "plt.plot(np.arange(n_epochs + 1), train_loss, label=\"Train\")\n",
    "plt.plot(np.arange(1, n_epochs + 2, 10), test_loss, label=\"Test\")\n",
    "plt.title(\"Train and Test Loss over Training\")\n",
    "plt.xlabel(\"Epoch\")\n",
    "plt.ylabel(\"Loss\")\n",
    "plt.legend()"
   ]
  },
  {
   "cell_type": "markdown",
   "id": "15878b70-8994-45df-a5c5-03cd2e3f03a9",
   "metadata": {},
   "source": [
    "## 2 Dropout"
   ]
  },
  {
   "cell_type": "code",
   "execution_count": 5,
   "id": "09cbffe6-45c0-40a0-a311-15ac3779ff54",
   "metadata": {},
   "outputs": [],
   "source": [
    "def dropout(X, p_drop = 0.5):\n",
    "    if 0 < p_drop < 1:\n",
    "        phi = np.random.binomial(1, p_drop, X.size()).astype(bool)\n",
    "        X[phi] = 0\n",
    "        X[np.invert(phi)] *= (1-p_drop)**(-1)\n",
    "        return X\n",
    "    \n",
    "    else:\n",
    "        return X"
   ]
  },
  {
   "cell_type": "code",
   "execution_count": 6,
   "id": "92b1cafe-4d3c-4124-941c-40b30025d61f",
   "metadata": {},
   "outputs": [],
   "source": [
    "def dropout_model(X, w_h, w_h2, w_o, p_drop_input, p_drop_hidden):\n",
    "    x = dropout(X, p_drop_input)\n",
    "    h = rectify(x @ w_h)\n",
    "    \n",
    "    h = dropout(h, p_drop_hidden)\n",
    "    h2 = rectify(h @ w_h2)\n",
    "    \n",
    "    h2 = dropout(h2, p_drop_hidden)\n",
    "    pre_softmax = h2 @ w_o\n",
    "    \n",
    "    return pre_softmax"
   ]
  },
  {
   "cell_type": "code",
   "execution_count": 7,
   "id": "273fbc33-8706-4131-bf45-e84b3a2a70fa",
   "metadata": {},
   "outputs": [
    {
     "name": "stdout",
     "output_type": "stream",
     "text": [
      "Epoch: 0\n",
      "Mean Train Loss: 2.55e+00\n",
      "Mean Test Loss:  1.80e+00\n",
      "Epoch: 10\n",
      "Mean Train Loss: 1.88e+00\n",
      "Mean Test Loss:  1.64e+00\n",
      "Epoch: 20\n",
      "Mean Train Loss: 2.00e+00\n",
      "Mean Test Loss:  1.41e+00\n",
      "Epoch: 30\n",
      "Mean Train Loss: 2.06e+00\n",
      "Mean Test Loss:  1.47e+00\n",
      "Epoch: 40\n",
      "Mean Train Loss: 2.16e+00\n",
      "Mean Test Loss:  1.53e+00\n",
      "Epoch: 50\n",
      "Mean Train Loss: 2.20e+00\n",
      "Mean Test Loss:  1.47e+00\n",
      "Epoch: 60\n",
      "Mean Train Loss: 2.27e+00\n",
      "Mean Test Loss:  1.55e+00\n",
      "Epoch: 70\n",
      "Mean Train Loss: 2.25e+00\n",
      "Mean Test Loss:  1.64e+00\n",
      "Epoch: 80\n",
      "Mean Train Loss: 2.26e+00\n",
      "Mean Test Loss:  1.55e+00\n",
      "Epoch: 90\n",
      "Mean Train Loss: 2.31e+00\n",
      "Mean Test Loss:  1.48e+00\n",
      "Epoch: 100\n",
      "Mean Train Loss: 2.36e+00\n",
      "Mean Test Loss:  1.51e+00\n"
     ]
    },
    {
     "data": {
      "text/plain": [
       "<matplotlib.legend.Legend at 0x14a313fd0>"
      ]
     },
     "execution_count": 7,
     "metadata": {},
     "output_type": "execute_result"
    },
    {
     "data": {
      "image/png": "[encoded data removed]",
      "text/plain": [
       "<Figure size 640x480 with 1 Axes>"
      ]
     },
     "metadata": {},
     "output_type": "display_data"
    }
   ],
   "source": [
    "n_epochs = 100\n",
    "\n",
    "# initialize weights\n",
    "\n",
    "# input shape is (B, 784)\n",
    "w_h = init_weights((784, 625))\n",
    "# hidden layer with 625 neurons\n",
    "w_h2 = init_weights((625, 625))\n",
    "# hidden layer with 625 neurons\n",
    "w_o = init_weights((625, 10))\n",
    "# output shape is (B, 10)\n",
    "\n",
    "optimizer = RMSprop(params=[w_h, w_h2, w_o])\n",
    "\n",
    "train_loss = []\n",
    "test_loss = []\n",
    "\n",
    "p_drop_input = 0.9\n",
    "p_drop_hidden = 0.5\n",
    "\n",
    "# put this into a training loop over 100 epochs\n",
    "for epoch in range(n_epochs + 1):\n",
    "    train_loss_this_epoch = []\n",
    "    for idx, batch in enumerate(train_dataloader):\n",
    "        x, y = batch\n",
    "\n",
    "        # our model requires flattened input\n",
    "        x = x.reshape(batch_size, 784)\n",
    "        # feed input through model\n",
    "        noise_py_x = dropout_model(x, w_h, w_h2, w_o, p_drop_input, p_drop_hidden) # add new model here\n",
    "\n",
    "        # reset the gradient\n",
    "        optimizer.zero_grad()\n",
    "\n",
    "        # the cross-entropy loss function already contains the softmax\n",
    "        loss = cross_entropy(noise_py_x, y, reduction=\"mean\")\n",
    "\n",
    "        train_loss_this_epoch.append(float(loss))\n",
    "\n",
    "        # compute the gradient\n",
    "        loss.backward()\n",
    "        # update weights\n",
    "        optimizer.step()\n",
    "\n",
    "    train_loss.append(np.mean(train_loss_this_epoch))\n",
    "\n",
    "    # test periodically\n",
    "    if epoch % 10 == 0:\n",
    "        print(f\"Epoch: {epoch}\")\n",
    "        print(f\"Mean Train Loss: {train_loss[-1]:.2e}\")\n",
    "        test_loss_this_epoch = []\n",
    "\n",
    "        # no need to compute gradients for validation\n",
    "        with torch.no_grad():\n",
    "            for idx, batch in enumerate(test_dataloader):\n",
    "                x, y = batch\n",
    "                x = x.reshape(batch_size, 784)\n",
    "                noise_py_x = model(x, w_h, w_h2, w_o)\n",
    "\n",
    "                loss = cross_entropy(noise_py_x, y, reduction=\"mean\")\n",
    "                test_loss_this_epoch.append(float(loss))\n",
    "\n",
    "        test_loss.append(np.mean(test_loss_this_epoch))\n",
    "\n",
    "        print(f\"Mean Test Loss:  {test_loss[-1]:.2e}\")\n",
    "\n",
    "plt.plot(np.arange(n_epochs + 1), train_loss, label=\"Train\")\n",
    "plt.plot(np.arange(1, n_epochs + 2, 10), test_loss, label=\"Test\")\n",
    "plt.title(\"Train and Test Loss over Training\")\n",
    "plt.xlabel(\"Epoch\")\n",
    "plt.ylabel(\"Loss\")\n",
    "plt.legend()"
   ]
  },
  {
   "cell_type": "markdown",
   "id": "e5572c8d-5b8b-4a10-b900-08932d8943ad",
   "metadata": {},
   "source": [
    "The dropout method reduces the input to less features, either in the input layer or in the hidden layers by just nulling some random elements. <br>\n",
    "This prevents overfitting because the training data in the beginning would influence the weigths and biases significantly more than later data. Also each neuron is forced to consider all neurons from the previous layer, since it can't relay on specific neurons anymore.<br>\n",
    "The test data shouldn't go through the dropout layer, else we wouldn't use all the neurons we trained with. <br>\n",
    "Compared to the loss of the test data to the one from task 1, we can see that the loss with the dropout has improved over the epochs. This indicates, that we prevented the overfitting that occured in task 1."
   ]
  },
  {
   "cell_type": "markdown",
   "id": "3b1664eb-30c2-4101-8272-1a2519137f0c",
   "metadata": {},
   "source": [
    "## 3 Parametric ReLU"
   ]
  },
  {
   "cell_type": "code",
   "execution_count": 8,
   "id": "41fbb751-ad0f-44e5-9806-97cc28e475e2",
   "metadata": {},
   "outputs": [],
   "source": [
    "def PRelu(X,a):\n",
    "    X[X<=0] *= a[X<=0]\n",
    "    return X"
   ]
  },
  {
   "cell_type": "code",
   "execution_count": 19,
   "id": "8ee2ea77-a4d7-4a9a-b16c-6f84de0a55fc",
   "metadata": {},
   "outputs": [],
   "source": [
    "# initialize weights\n",
    "\n",
    "# input shape is (B, 784)\n",
    "w_h = init_weights((784, 625))\n",
    "# hidden layer with 625 neurons\n",
    "w_h2 = init_weights((625, 625))\n",
    "# hidden layer with 625 neurons\n",
    "w_o = init_weights((625, 10))\n",
    "# output shape is (B, 10)\n",
    "a_h = init_weights((100, 625))\n",
    "a_h2 = init_weights((100, 625))\n",
    "\n",
    "optimizer = RMSprop(params=[w_h, w_h2, w_o, a_h, a_h2])\n",
    "\n",
    "# define the neural network with the new ReLu\n",
    "def model(x, w_h, w_h2, w_o, a_h, a_h2):\n",
    "    h = PRelu(x @ w_h, a_h)\n",
    "    h2 = PRelu(h @ w_h2, a_h2)\n",
    "    pre_softmax = h2 @ w_o\n",
    "    return pre_softmax"
   ]
  },
  {
   "cell_type": "code",
   "execution_count": 20,
   "id": "55932190-1d67-49a7-8c9d-03f6fa2cebc5",
   "metadata": {},
   "outputs": [
    {
     "name": "stdout",
     "output_type": "stream",
     "text": [
      "torch.Size([100, 625])\n",
      "torch.Size([100, 10])\n"
     ]
    },
    {
     "ename": "SystemExit",
     "evalue": "Error message",
     "output_type": "error",
     "traceback": [
      "An exception has occurred, use %tb to see the full traceback.\n",
      "\u001b[0;31mSystemExit\u001b[0m\u001b[0;31m:\u001b[0m Error message\n"
     ]
    }
   ],
   "source": [
    "n_epochs = 100\n",
    "\n",
    "train_loss = []\n",
    "test_loss = []\n",
    "\n",
    "# put this into a training loop over 100 epochs\n",
    "for epoch in range(n_epochs + 1):\n",
    "    train_loss_this_epoch = []\n",
    "    for idx, batch in enumerate(train_dataloader):\n",
    "        x, y = batch\n",
    "\n",
    "        # our model requires flattened input\n",
    "        x = x.reshape(batch_size, 784)\n",
    "        # feed input through model\n",
    "        noise_py_x = model(x, w_h, w_h2, w_o, a_h, a_h2) # add new ReLU here\n",
    "\n",
    "        # reset the gradient\n",
    "        optimizer.zero_grad()\n",
    "\n",
    "        # the cross-entropy loss function already contains the softmax\n",
    "        loss = cross_entropy(noise_py_x, y, reduction=\"mean\")\n",
    "\n",
    "        train_loss_this_epoch.append(float(loss))\n",
    "\n",
    "        # compute the gradient\n",
    "        loss.backward()\n",
    "        # update weights\n",
    "        optimizer.step()\n",
    "\n",
    "    train_loss.append(np.mean(train_loss_this_epoch))\n",
    "\n",
    "    # test periodically\n",
    "    if epoch % 10 == 0:\n",
    "        print(f\"Epoch: {epoch}\")\n",
    "        print(f\"Mean Train Loss: {train_loss[-1]:.2e}\")\n",
    "        test_loss_this_epoch = []\n",
    "\n",
    "        # no need to compute gradients for validation\n",
    "        with torch.no_grad():\n",
    "            for idx, batch in enumerate(test_dataloader):\n",
    "                x, y = batch\n",
    "                x = x.reshape(batch_size, 784)\n",
    "                noise_py_x = model(x, w_h, w_h2, w_o, a_h, a_h2) # add new ReLU here\n",
    "\n",
    "                loss = cross_entropy(noise_py_x, y, reduction=\"mean\")\n",
    "                test_loss_this_epoch.append(float(loss))\n",
    "\n",
    "        test_loss.append(np.mean(test_loss_this_epoch))\n",
    "\n",
    "        print(f\"Mean Test Loss:  {test_loss[-1]:.2e}\")\n",
    "\n",
    "plt.plot(np.arange(n_epochs + 1), train_loss, label=\"Train\")\n",
    "plt.plot(np.arange(1, n_epochs + 2, 10), test_loss, label=\"Test\")\n",
    "plt.title(\"Train and Test Loss over Training\")\n",
    "plt.xlabel(\"Epoch\")\n",
    "plt.ylabel(\"Loss\")\n",
    "plt.legend()"
   ]
  },
  {
   "cell_type": "markdown",
   "id": "8b4895e5-432d-4d5b-ae6b-43cce8eb969a",
   "metadata": {},
   "source": [
    "With the parametric ReLU the NN still overfits the training data, but the Loss is noticable lower compared to the normal ReLU activation (around half)."
   ]
  },
  {
   "cell_type": "markdown",
   "id": "0f9d00e6-29b5-4242-ac90-6bf27f4d7b63",
   "metadata": {},
   "source": [
    "## 4 Convolutional Layers\n",
    "### 4.1 Create a Convolutional network"
   ]
  },
  {
   "cell_type": "code",
   "execution_count": 208,
   "id": "898a1deb-8e7e-4b4e-925e-0c2341980f50",
   "metadata": {},
   "outputs": [],
   "source": [
    "# define the neural network with convolutional layers\n",
    "def conv_model(x, kernal1, kernal2, kernal3, w_h2, w_o, p_drop_input, p_drop_hidden):\n",
    "\n",
    "    # first layer with convolution, pooling and dropout\n",
    "    convolutional_layer = rectify(conv2d(x , kernal1))\n",
    "    subsampling_layer = max_pool2d(convolutional_layer , (2,2))\n",
    "    hc = dropout(subsampling_layer , p_drop_input)\n",
    "    \n",
    "    # second layer with convolution, pooling and dropout\n",
    "    convolutional_layer = rectify(conv2d(hc , kernal2))\n",
    "    subsampling_layer = max_pool2d(convolutional_layer , (2,2))\n",
    "    hc2 = dropout(subsampling_layer , p_drop_hidden)\n",
    "    \n",
    "    # third layer with convolution, pooling and dropout\n",
    "    convolutional_layer = rectify(conv2d(hc2 , kernal3))\n",
    "    subsampling_layer = max_pool2d(convolutional_layer , (2,2))\n",
    "    hc3 = dropout(subsampling_layer , p_drop_hidden)\n",
    "    \n",
    "    h2 = hc3.reshape(100, 128) @ w_h2\n",
    "    pre_softmax = h2 @ w_o\n",
    "    \n",
    "    return pre_softmax"
   ]
  },
  {
   "cell_type": "code",
   "execution_count": 209,
   "id": "65004300-e865-45c6-8ee6-232038bf9ad5",
   "metadata": {},
   "outputs": [
    {
     "name": "stdout",
     "output_type": "stream",
     "text": [
      "Epoch: 0\n",
      "Mean Train Loss: 9.30e+00\n",
      "Mean Test Loss:  2.30e+00\n",
      "Epoch: 10\n",
      "Mean Train Loss: 2.30e+00\n",
      "Mean Test Loss:  2.30e+00\n",
      "Epoch: 20\n",
      "Mean Train Loss: 2.30e+00\n",
      "Mean Test Loss:  2.30e+00\n"
     ]
    },
    {
     "ename": "KeyboardInterrupt",
     "evalue": "",
     "output_type": "error",
     "traceback": [
      "\u001b[0;31m---------------------------------------------------------------------------\u001b[0m",
      "\u001b[0;31mKeyboardInterrupt\u001b[0m                         Traceback (most recent call last)",
      "Cell \u001b[0;32mIn[209], line 44\u001b[0m\n\u001b[1;32m     41\u001b[0m train_loss_this_epoch\u001b[38;5;241m.\u001b[39mappend(\u001b[38;5;28mfloat\u001b[39m(loss))\n\u001b[1;32m     43\u001b[0m \u001b[38;5;66;03m# compute the gradient\u001b[39;00m\n\u001b[0;32m---> 44\u001b[0m \u001b[43mloss\u001b[49m\u001b[38;5;241;43m.\u001b[39;49m\u001b[43mbackward\u001b[49m\u001b[43m(\u001b[49m\u001b[43m)\u001b[49m\n\u001b[1;32m     45\u001b[0m \u001b[38;5;66;03m# update weights\u001b[39;00m\n\u001b[1;32m     46\u001b[0m optimizer\u001b[38;5;241m.\u001b[39mstep()\n",
      "File \u001b[0;32m~/miniconda3/lib/python3.10/site-packages/torch/_tensor.py:487\u001b[0m, in \u001b[0;36mTensor.backward\u001b[0;34m(self, gradient, retain_graph, create_graph, inputs)\u001b[0m\n\u001b[1;32m    477\u001b[0m \u001b[38;5;28;01mif\u001b[39;00m has_torch_function_unary(\u001b[38;5;28mself\u001b[39m):\n\u001b[1;32m    478\u001b[0m     \u001b[38;5;28;01mreturn\u001b[39;00m handle_torch_function(\n\u001b[1;32m    479\u001b[0m         Tensor\u001b[38;5;241m.\u001b[39mbackward,\n\u001b[1;32m    480\u001b[0m         (\u001b[38;5;28mself\u001b[39m,),\n\u001b[0;32m   (...)\u001b[0m\n\u001b[1;32m    485\u001b[0m         inputs\u001b[38;5;241m=\u001b[39minputs,\n\u001b[1;32m    486\u001b[0m     )\n\u001b[0;32m--> 487\u001b[0m \u001b[43mtorch\u001b[49m\u001b[38;5;241;43m.\u001b[39;49m\u001b[43mautograd\u001b[49m\u001b[38;5;241;43m.\u001b[39;49m\u001b[43mbackward\u001b[49m\u001b[43m(\u001b[49m\n\u001b[1;32m    488\u001b[0m \u001b[43m    \u001b[49m\u001b[38;5;28;43mself\u001b[39;49m\u001b[43m,\u001b[49m\u001b[43m \u001b[49m\u001b[43mgradient\u001b[49m\u001b[43m,\u001b[49m\u001b[43m \u001b[49m\u001b[43mretain_graph\u001b[49m\u001b[43m,\u001b[49m\u001b[43m \u001b[49m\u001b[43mcreate_graph\u001b[49m\u001b[43m,\u001b[49m\u001b[43m \u001b[49m\u001b[43minputs\u001b[49m\u001b[38;5;241;43m=\u001b[39;49m\u001b[43minputs\u001b[49m\n\u001b[1;32m    489\u001b[0m \u001b[43m\u001b[49m\u001b[43m)\u001b[49m\n",
      "File \u001b[0;32m~/miniconda3/lib/python3.10/site-packages/torch/autograd/__init__.py:200\u001b[0m, in \u001b[0;36mbackward\u001b[0;34m(tensors, grad_tensors, retain_graph, create_graph, grad_variables, inputs)\u001b[0m\n\u001b[1;32m    195\u001b[0m     retain_graph \u001b[38;5;241m=\u001b[39m create_graph\n\u001b[1;32m    197\u001b[0m \u001b[38;5;66;03m# The reason we repeat same the comment below is that\u001b[39;00m\n\u001b[1;32m    198\u001b[0m \u001b[38;5;66;03m# some Python versions print out the first line of a multi-line function\u001b[39;00m\n\u001b[1;32m    199\u001b[0m \u001b[38;5;66;03m# calls in the traceback and some print out the last line\u001b[39;00m\n\u001b[0;32m--> 200\u001b[0m \u001b[43mVariable\u001b[49m\u001b[38;5;241;43m.\u001b[39;49m\u001b[43m_execution_engine\u001b[49m\u001b[38;5;241;43m.\u001b[39;49m\u001b[43mrun_backward\u001b[49m\u001b[43m(\u001b[49m\u001b[43m  \u001b[49m\u001b[38;5;66;43;03m# Calls into the C++ engine to run the backward pass\u001b[39;49;00m\n\u001b[1;32m    201\u001b[0m \u001b[43m    \u001b[49m\u001b[43mtensors\u001b[49m\u001b[43m,\u001b[49m\u001b[43m \u001b[49m\u001b[43mgrad_tensors_\u001b[49m\u001b[43m,\u001b[49m\u001b[43m \u001b[49m\u001b[43mretain_graph\u001b[49m\u001b[43m,\u001b[49m\u001b[43m \u001b[49m\u001b[43mcreate_graph\u001b[49m\u001b[43m,\u001b[49m\u001b[43m \u001b[49m\u001b[43minputs\u001b[49m\u001b[43m,\u001b[49m\n\u001b[1;32m    202\u001b[0m \u001b[43m    \u001b[49m\u001b[43mallow_unreachable\u001b[49m\u001b[38;5;241;43m=\u001b[39;49m\u001b[38;5;28;43;01mTrue\u001b[39;49;00m\u001b[43m,\u001b[49m\u001b[43m \u001b[49m\u001b[43maccumulate_grad\u001b[49m\u001b[38;5;241;43m=\u001b[39;49m\u001b[38;5;28;43;01mTrue\u001b[39;49;00m\u001b[43m)\u001b[49m\n",
      "\u001b[0;31mKeyboardInterrupt\u001b[0m: "
     ]
    }
   ],
   "source": [
    "number_of_output_pixel = 128\n",
    "n_epochs = 100\n",
    "\n",
    "# initialize weights\n",
    "\n",
    "# input shape is (B, 784)\n",
    "kernal1 = init_weights((32, 1, 5, 5))\n",
    "# hidden layer with 625 neurons\n",
    "kernal2 = init_weights((64, 32, 5, 5))\n",
    "# hidden layer with 625 neurons\n",
    "kernal3 = init_weights((128, 64, 2, 2))\n",
    "# hidden layer with 625 neurons\n",
    "w_h2 = init_weights((number_of_output_pixel, 625))\n",
    "# hidden layer with 625 neurons\n",
    "w_o = init_weights((625,10))\n",
    "# output shape is (B, 10)\n",
    "\n",
    "optimizer = RMSprop(params=[kernal1, kernal2, kernal3, w_h2, w_o])\n",
    "\n",
    "train_loss = []\n",
    "test_loss = []\n",
    "\n",
    "p_drop_input = 0.9\n",
    "p_drop_hidden = 0.5\n",
    "\n",
    "# put this into a training loop over 100 epochs\n",
    "for epoch in range(n_epochs + 1):\n",
    "    train_loss_this_epoch = []\n",
    "    for idx, batch in enumerate(train_dataloader):\n",
    "        x, y = batch\n",
    "\n",
    "        # feed input through model\n",
    "        noise_py_x = conv_model(x, kernal1, kernal2, kernal3, w_h2, w_o, p_drop_input, p_drop_hidden) # add new model here\n",
    "\n",
    "        # reset the gradient\n",
    "        optimizer.zero_grad()\n",
    "\n",
    "        # the cross-entropy loss function already contains the softmax\n",
    "        loss = cross_entropy(noise_py_x, y, reduction=\"mean\")\n",
    "\n",
    "        train_loss_this_epoch.append(float(loss))\n",
    "\n",
    "        # compute the gradient\n",
    "        loss.backward()\n",
    "        # update weights\n",
    "        optimizer.step()\n",
    "\n",
    "    train_loss.append(np.mean(train_loss_this_epoch))\n",
    "\n",
    "    # test periodically\n",
    "    if epoch % 10 == 0:\n",
    "        print(f\"Epoch: {epoch}\")\n",
    "        print(f\"Mean Train Loss: {train_loss[-1]:.2e}\")\n",
    "        test_loss_this_epoch = []\n",
    "\n",
    "        # no need to compute gradients for validation\n",
    "        with torch.no_grad():\n",
    "            for idx, batch in enumerate(test_dataloader):\n",
    "                x, y = batch\n",
    "\n",
    "                noise_py_x = conv_model(x, kernal1, kernal2, kernal3, w_h2, w_o, 1, 1) # add new model here, with zero dropout = 1 to consider all data\n",
    "\n",
    "                loss = cross_entropy(noise_py_x, y, reduction=\"mean\")\n",
    "                test_loss_this_epoch.append(float(loss))\n",
    "\n",
    "        test_loss.append(np.mean(test_loss_this_epoch))\n",
    "\n",
    "        print(f\"Mean Test Loss:  {test_loss[-1]:.2e}\")\n",
    "        \n",
    "plt.plot(np.arange(n_epochs + 1), train_loss, label=\"Train\")\n",
    "plt.plot(np.arange(1, n_epochs + 2, 10), test_loss, label=\"Test\")\n",
    "plt.title(\"Train and Test Loss over Training\")\n",
    "plt.xlabel(\"Epoch\")\n",
    "plt.ylabel(\"Loss\")\n",
    "plt.legend()"
   ]
  },
  {
   "cell_type": "code",
   "execution_count": 131,
   "id": "11b36c0a-3754-4553-a0d0-d73abcde1730",
   "metadata": {},
   "outputs": [],
   "source": [
    "test2 = init_weights((32, 1, 5, 5))\n",
    "test = noise_py_x"
   ]
  },
  {
   "cell_type": "code",
   "execution_count": 132,
   "id": "e3ce9b21-be67-41c7-9c56-920209b3ffdc",
   "metadata": {},
   "outputs": [],
   "source": [
    "test3 = max_pool2d(rectify(conv2d(test, test2)), (2,2))"
   ]
  },
  {
   "cell_type": "code",
   "execution_count": 164,
   "id": "f87ef91e-87d8-4606-b2b6-b8e7550b9ecf",
   "metadata": {},
   "outputs": [],
   "source": [
    "v = test3 @ init_weights((12, 625))"
   ]
  },
  {
   "cell_type": "code",
   "execution_count": 161,
   "id": "a5291bd4-7dcf-4721-a943-ea586f9c15b5",
   "metadata": {},
   "outputs": [
    {
     "data": {
      "text/plain": [
       "torch.Size([460800])"
      ]
     },
     "execution_count": 161,
     "metadata": {},
     "output_type": "execute_result"
    }
   ],
   "source": [
    "torch.flatten(test3).size()"
   ]
  },
  {
   "cell_type": "code",
   "execution_count": 171,
   "id": "3a273351-c941-4dfc-98d3-9fe885f57439",
   "metadata": {},
   "outputs": [
    {
     "data": {
      "text/plain": [
       "torch.Size([100, 32, 12, 12])"
      ]
     },
     "execution_count": 171,
     "metadata": {},
     "output_type": "execute_result"
    }
   ],
   "source": [
    "test3.size()"
   ]
  },
  {
   "cell_type": "code",
   "execution_count": 187,
   "id": "7871653b-5eb6-4577-b3fd-2e38ab66d1d9",
   "metadata": {},
   "outputs": [
    {
     "data": {
      "text/plain": [
       "torch.Size([100, 32, 144])"
      ]
     },
     "execution_count": 187,
     "metadata": {},
     "output_type": "execute_result"
    }
   ],
   "source": [
    "test3.reshape(100,32,12*12).size()"
   ]
  },
  {
   "cell_type": "code",
   "execution_count": 191,
   "id": "05a8d8f6-6df3-4ca7-b347-a5df94753c19",
   "metadata": {},
   "outputs": [
    {
     "data": {
      "text/plain": [
       "torch.Size([100, 128, 10])"
      ]
     },
     "execution_count": 192,
     "metadata": {},
     "output_type": "execute_result"
    }
   ],
   "source": [
    "noise_py_x."
   ]
  },
  {
   "cell_type": "code",
   "execution_count": null,
   "id": "25602cd7-cc0a-4c66-bc9a-3dc748e2141c",
   "metadata": {},
   "outputs": [],
   "source": []
  }
 ],
 "metadata": {
  "kernelspec": {
   "display_name": "Python 3 (ipykernel)",
   "language": "python",
   "name": "python3"
  },
  "language_info": {
   "codemirror_mode": {
    "name": "ipython",
    "version": 3
   },
   "file_extension": ".py",
   "mimetype": "text/x-python",
   "name": "python",
   "nbconvert_exporter": "python",
   "pygments_lexer": "ipython3",
   "version": "3.10.10"
  }
 },
 "nbformat": 4,
 "nbformat_minor": 5
}
